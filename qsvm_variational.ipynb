{
 "cells": [
  {
   "cell_type": "markdown",
   "metadata": {},
   "source": [
    "## _*Quantum SVM (variational method)*_\n",
    "\n",
    "The QSVMKernel notebook here demonstrates a kernel based approach. This notebook shows a variational method.\n",
    "\n",
    "For further information please see: [https://arxiv.org/pdf/1804.11326.pdf](https://arxiv.org/pdf/1804.11326.pdf)\n",
    "\n",
    "\n",
    "**This notebook shows the SVM implementation based on the variational method.**\n",
    "\n",
    "In this file, we show two ways for using the quantum variational method: (1) the non-programming way and (2) the programming way. \n"
   ]
  },
  {
   "cell_type": "markdown",
   "metadata": {},
   "source": [
    "### Part I: non-programming way.\n",
    "In the non-programming way, we config a json-like configuration, which defines how the svm instance is internally constructed. After the execution, it returns the json-like output, which carries the important information (e.g., the details of the svm instance) and the processed results. "
   ]
  },
  {
   "cell_type": "code",
   "execution_count": 2,
   "metadata": {},
   "outputs": [],
   "source": [
    "from datasets import *\n",
    "from qiskit_aqua.utils import split_dataset_to_data_and_labels, map_label_to_class_name\n",
    "from qiskit import Aer\n",
    "from qiskit_aqua.input import SVMInput\n",
    "from qiskit_aqua import run_algorithm, QuantumInstance\n",
    "from qiskit_aqua.algorithms import QSVMVariational\n",
    "from qiskit_aqua.components.optimizers import SPSA\n",
    "from qiskit_aqua.components.feature_maps import SecondOrderExpansion\n",
    "from qiskit_aqua.components.variational_forms import RYRZ"
   ]
  },
  {
   "cell_type": "markdown",
   "metadata": {},
   "source": [
    "First we prepare the dataset, which is used for training, testing and the finally prediction.\n",
    "\n",
    "*Note: You can easily switch to a different dataset, such as the Breast Cancer dataset, by replacing 'ad_hoc_data' to 'Breast_cancer' below.*"
   ]
  },
  {
   "cell_type": "code",
   "execution_count": 3,
   "metadata": {},
   "outputs": [
    {
     "data": {
      "image/png": "[encoded data removed]",
      "text/plain": [
       "<Figure size 432x288 with 1 Axes>"
      ]
     },
     "metadata": {
      "needs_background": "light"
     },
     "output_type": "display_data"
    },
    {
     "data": {
      "image/png": "[encoded data removed]",
      "text/plain": [
       "<Figure size 432x288 with 1 Axes>"
      ]
     },
     "metadata": {
      "needs_background": "light"
     },
     "output_type": "display_data"
    },
    {
     "name": "stdout",
     "output_type": "stream",
     "text": [
      "{'A': 0, 'B': 1}\n"
     ]
    }
   ],
   "source": [
    "feature_dim = 2 # dimension of each data point\n",
    "training_dataset_size = 20\n",
    "testing_dataset_size = 10\n",
    "random_seed = 10598\n",
    "shots = 1024\n",
    "\n",
    "sample_Total, training_input, test_input, class_labels = ad_hoc_data(training_size=training_dataset_size, \n",
    "                                                                     test_size=testing_dataset_size, \n",
    "                                                                     n=feature_dim, gap=0.3, PLOT_DATA=True)\n",
    "\n",
    "datapoints, class_to_label = split_dataset_to_data_and_labels(test_input)\n",
    "print(class_to_label)"
   ]
  },
  {
   "cell_type": "markdown",
   "metadata": {},
   "source": [
    "Now we create the svm in the non-programming way.\n",
    "In the following json, we config:\n",
    "- the algorithm name \n",
    "- the variational form\n",
    "- the feature map \n",
    "- the optimizer"
   ]
  },
  {
   "cell_type": "code",
   "execution_count": 4,
   "metadata": {},
   "outputs": [],
   "source": [
    "params = {\n",
    "    'problem': {'name': 'svm_classification', 'random_seed': 10598},\n",
    "    'algorithm': {'name': 'QSVM.Variational', 'override_SPSA_params': True},\n",
    "    'backend': {'shots': 1024},\n",
    "    'optimizer': {'name': 'SPSA', 'max_trials': 200, 'save_steps': 1},\n",
    "    'variational_form': {'name': 'RYRZ', 'depth': 3},\n",
    "    'feature_map': {'name': 'SecondOrderExpansion', 'depth': 2}\n",
    "}\n",
    "\n",
    "svm_input = SVMInput(training_input, test_input, datapoints[0])\n",
    "backend = Aer.get_backend('qasm_simulator')"
   ]
  },
  {
   "cell_type": "markdown",
   "metadata": {},
   "source": [
    "With everything setup, we can now run the algorithm.\n",
    "\n",
    "For the testing, the result includes the details and the success ratio.\n",
    "\n",
    "For the prediction, the result includes the predicted labels. "
   ]
  },
  {
   "cell_type": "code",
   "execution_count": 5,
   "metadata": {},
   "outputs": [
    {
     "name": "stdout",
     "output_type": "stream",
     "text": [
      "testing success ratio:  1.0\n",
      "predicted classes: ['A', 'A', 'A', 'A', 'A', 'A', 'A', 'A', 'A', 'A', 'B', 'B', 'B', 'B', 'B', 'B', 'B', 'B', 'B', 'B']\n"
     ]
    }
   ],
   "source": [
    "result = run_algorithm(params, svm_input, backend=backend)\n",
    "print(\"testing success ratio: \", result['testing_accuracy'])\n",
    "print(\"predicted classes:\", result['predicted_classes'])"
   ]
  },
  {
   "cell_type": "markdown",
   "metadata": {},
   "source": [
    "### Part II: programming way.\n",
    "We construct the svm instance directly from the classes. The programming way offers the users better accessibility, e.g., the users can access the internal state of svm instance or invoke the methods of the instance. "
   ]
  },
  {
   "cell_type": "markdown",
   "metadata": {},
   "source": [
    "Now we create the svm in the programming way.\n",
    "- we build the optimizer instance (required by the svm instance) by instantiating the class SPSA.\n",
    "- We build the feature map instance (required by the svm instance) by instantiating the class SecondOrderExpansion.\n",
    "- We build the varitional form instance (required by the svm instance) by instantiating the class RYRZ.\n",
    "- We build the svm instance by instantiating the class QSVMVariational. \n"
   ]
  },
  {
   "cell_type": "code",
   "execution_count": 6,
   "metadata": {},
   "outputs": [],
   "source": [
    "backend = Aer.get_backend('qasm_simulator')\n",
    "optimizer = SPSA(max_trials=100, c0=4.0, skip_calibration=True)\n",
    "optimizer.set_options(save_steps=1)\n",
    "feature_map = SecondOrderExpansion(num_qubits=feature_dim, depth=2)\n",
    "var_form = RYRZ(num_qubits=feature_dim, depth=3)\n",
    "svm = QSVMVariational(optimizer, feature_map, var_form, training_input, test_input)\n",
    "quantum_instance = QuantumInstance(backend, shots=shots, seed=random_seed, seed_mapper=random_seed)"
   ]
  },
  {
   "cell_type": "markdown",
   "metadata": {},
   "source": [
    "Now we run it."
   ]
  },
  {
   "cell_type": "code",
   "execution_count": 6,
   "metadata": {},
   "outputs": [
    {
     "name": "stdout",
     "output_type": "stream",
     "text": [
      "testing success ratio:  1.0\n"
     ]
    }
   ],
   "source": [
    "result = svm.run(quantum_instance)\n",
    "print(\"testing success ratio: \", result['testing_accuracy'])"
   ]
  },
  {
   "cell_type": "markdown",
   "metadata": {},
   "source": [
    "Different from the non-programming way, the programming way allows the users to invoke APIs upon the svm instance directly. In the following, we invoke the API \"predict\" upon the trained svm instance to predict the labels for the newly provided data input.\n",
    "\n",
    "Use the trained model to evaluate data directly, and we store a label_to_class and class_to_label for helping converting between label and class name"
   ]
  },
  {
   "cell_type": "code",
   "execution_count": 7,
   "metadata": {},
   "outputs": [
    {
     "name": "stdout",
     "output_type": "stream",
     "text": [
      "prediction:   [0 0 0 0 0 0 0 0 0 0 1 1 1 1 1 1 1 1 1 1]\n"
     ]
    }
   ],
   "source": [
    "predicted_probs, predicted_labels = svm.predict(datapoints[0])\n",
    "predicted_classes = map_label_to_class_name(predicted_labels, svm.label_to_class)\n",
    "print(\"prediction:   {}\".format(predicted_labels))"
   ]
  }
 ],
 "metadata": {
  "kernelspec": {
   "display_name": "Qiskitenv2",
   "language": "python",
   "name": "qiskitenv2"
  },
  "language_info": {
   "codemirror_mode": {
    "name": "ipython",
    "version": 3
   },
   "file_extension": ".py",
   "mimetype": "text/x-python",
   "name": "python",
   "nbconvert_exporter": "python",
   "pygments_lexer": "ipython3",
   "version": "3.6.0"
  }
 },
 "nbformat": 4,
 "nbformat_minor": 2
}
